{
 "cells": [
  {
   "cell_type": "code",
   "execution_count": 7,
   "metadata": {},
   "outputs": [
    {
     "data": {
      "text/plain": [
       "array([-0.48278961, -0.57893709, -1.08101465, -0.46628288,  0.12707792,\n",
       "        1.51126347,  1.19374126,  1.08010582, -0.375173  , -1.15080831,\n",
       "        1.71301749,  0.09939873, -0.28872087,  1.53486342,  0.22373611,\n",
       "        0.72369584, -0.78703805, -0.85472035, -0.66685036, -0.63380387,\n",
       "        0.60738232,  1.5053806 , -1.14363738, -1.18351388, -0.39736659,\n",
       "       -0.2686449 , -0.03853511,  1.34396511,  0.46862999,  3.12556303,\n",
       "       -1.18983113, -2.17098328, -0.69867161, -0.6134395 , -0.09976413,\n",
       "       -1.29008121,  0.46353412, -1.5069699 ,  1.98358119, -0.6179278 ,\n",
       "       -1.01500224,  0.0646751 , -0.63426211, -0.57695852, -0.4935635 ,\n",
       "        1.63753086, -0.07200246, -0.4781285 , -0.37444335,  0.38570585,\n",
       "       -1.76133671,  0.19959451,  2.22648455,  0.26726571, -0.24953501,\n",
       "       -0.80452463, -1.06548888, -0.21772971,  1.51959624, -0.29822174,\n",
       "        0.3134002 , -1.14475122,  0.2265906 ,  0.2505393 , -0.4856526 ,\n",
       "        2.19053115,  0.45291936,  1.10954627,  0.94621124, -1.08377296,\n",
       "        0.33975544,  0.40995884,  2.38112092, -0.59632234, -1.6730098 ,\n",
       "       -1.24371682, -0.10201322,  1.93825971,  0.87562349, -1.04968989,\n",
       "        1.32377782, -0.214878  , -0.3369325 ,  2.57501059, -0.21224789,\n",
       "       -0.99748619, -0.75755017,  1.03661522,  0.68504637,  1.70437136,\n",
       "       -0.31948964,  0.38794594,  0.81001143,  1.58540578,  0.54489538,\n",
       "       -0.20783   , -0.43999922, -0.53187275, -1.19927067,  1.46771328])"
      ]
     },
     "execution_count": 7,
     "metadata": {},
     "output_type": "execute_result"
    }
   ],
   "source": [
    "#Importing necessary libraries\n",
    "import numpy as np\n",
    "import matplotlib.pyplot as plt\n",
    "import pandas as pd\n",
    "import scipy.stats as st\n",
    "\n",
    "#Generating 100 random standard normal numbers\n",
    "dataset = np.random.normal(0,1,100)\n",
    "dataset"
   ]
  },
  {
   "cell_type": "code",
   "execution_count": 8,
   "metadata": {},
   "outputs": [
    {
     "data": {
      "image/png": "[encoded data removed]",
      "text/plain": [
       "<Figure size 432x288 with 1 Axes>"
      ]
     },
     "metadata": {
      "needs_background": "light"
     },
     "output_type": "display_data"
    }
   ],
   "source": [
    "plt.hist(dataset, bins=50, density=1)\n",
    "plt.title('Standard Normal Distribution')\n",
    "plt.show()"
   ]
  },
  {
   "cell_type": "code",
   "execution_count": 9,
   "metadata": {},
   "outputs": [],
   "source": [
    "#sorting the data\n",
    "data_sorted = np.sort(dataset)\n",
    "#get cdf based on norm distribution\n",
    "CDF = [st.norm.cdf(x) for x in data_sorted]"
   ]
  },
  {
   "cell_type": "code",
   "execution_count": 10,
   "metadata": {},
   "outputs": [],
   "source": [
    "#Find out the ECDF values\n",
    "%matplotlib inline \n",
    "ECDF = np.arange(len(dataset))/len(dataset)"
   ]
  },
  {
   "cell_type": "code",
   "execution_count": 11,
   "metadata": {},
   "outputs": [
    {
     "data": {
      "text/plain": [
       "<matplotlib.legend.Legend at 0x11a6ae76dc8>"
      ]
     },
     "execution_count": 11,
     "metadata": {},
     "output_type": "execute_result"
    },
    {
     "data": {
      "image/png": "[encoded data removed]",
      "text/plain": [
       "<Figure size 432x288 with 1 Axes>"
      ]
     },
     "metadata": {
      "needs_background": "light"
     },
     "output_type": "display_data"
    }
   ],
   "source": [
    "#Plotting the CDF and ECDF values on a curve\n",
    "plt.xlabel('x')\n",
    "plt.ylabel('Cumulative Probability')\n",
    "plt.title('100 NORMAL RANDOM NUMBERS')\n",
    "\n",
    "plt.plot(data_sorted, CDF)\n",
    "plt.plot(data_sorted, ECDF)\n",
    "\n",
    "plt.legend(['CDF', 'ECDF'])"
   ]
  },
  {
   "cell_type": "code",
   "execution_count": 36,
   "metadata": {},
   "outputs": [
    {
     "data": {
      "text/html": [
       "<div>\n",
       "<style scoped>\n",
       "    .dataframe tbody tr th:only-of-type {\n",
       "        vertical-align: middle;\n",
       "    }\n",
       "\n",
       "    .dataframe tbody tr th {\n",
       "        vertical-align: top;\n",
       "    }\n",
       "\n",
       "    .dataframe thead th {\n",
       "        text-align: right;\n",
       "    }\n",
       "</style>\n",
       "<table border=\"1\" class=\"dataframe\">\n",
       "  <thead>\n",
       "    <tr style=\"text-align: right;\">\n",
       "      <th></th>\n",
       "      <th>id</th>\n",
       "      <th>age</th>\n",
       "      <th>education</th>\n",
       "      <th>sex</th>\n",
       "      <th>is_smoking</th>\n",
       "      <th>cigsPerDay</th>\n",
       "      <th>BPMeds</th>\n",
       "      <th>prevalentStroke</th>\n",
       "      <th>prevalentHyp</th>\n",
       "      <th>diabetes</th>\n",
       "      <th>totChol</th>\n",
       "      <th>sysBP</th>\n",
       "      <th>diaBP</th>\n",
       "      <th>BMI</th>\n",
       "      <th>heartRate</th>\n",
       "      <th>glucose</th>\n",
       "    </tr>\n",
       "  </thead>\n",
       "  <tbody>\n",
       "    <tr>\n",
       "      <th>0</th>\n",
       "      <td>3390</td>\n",
       "      <td>43</td>\n",
       "      <td>2.0</td>\n",
       "      <td>M</td>\n",
       "      <td>YES</td>\n",
       "      <td>35.0</td>\n",
       "      <td>0.0</td>\n",
       "      <td>0</td>\n",
       "      <td>0</td>\n",
       "      <td>0</td>\n",
       "      <td>207.0</td>\n",
       "      <td>117.0</td>\n",
       "      <td>65.0</td>\n",
       "      <td>24.42</td>\n",
       "      <td>60.0</td>\n",
       "      <td>100.0</td>\n",
       "    </tr>\n",
       "    <tr>\n",
       "      <th>1</th>\n",
       "      <td>3391</td>\n",
       "      <td>56</td>\n",
       "      <td>3.0</td>\n",
       "      <td>F</td>\n",
       "      <td>NO</td>\n",
       "      <td>0.0</td>\n",
       "      <td>0.0</td>\n",
       "      <td>0</td>\n",
       "      <td>0</td>\n",
       "      <td>0</td>\n",
       "      <td>192.0</td>\n",
       "      <td>122.0</td>\n",
       "      <td>82.5</td>\n",
       "      <td>28.61</td>\n",
       "      <td>68.0</td>\n",
       "      <td>58.0</td>\n",
       "    </tr>\n",
       "    <tr>\n",
       "      <th>2</th>\n",
       "      <td>3392</td>\n",
       "      <td>58</td>\n",
       "      <td>1.0</td>\n",
       "      <td>F</td>\n",
       "      <td>YES</td>\n",
       "      <td>20.0</td>\n",
       "      <td>0.0</td>\n",
       "      <td>0</td>\n",
       "      <td>1</td>\n",
       "      <td>0</td>\n",
       "      <td>260.0</td>\n",
       "      <td>180.0</td>\n",
       "      <td>100.0</td>\n",
       "      <td>25.56</td>\n",
       "      <td>100.0</td>\n",
       "      <td>NaN</td>\n",
       "    </tr>\n",
       "    <tr>\n",
       "      <th>3</th>\n",
       "      <td>3393</td>\n",
       "      <td>47</td>\n",
       "      <td>3.0</td>\n",
       "      <td>F</td>\n",
       "      <td>NO</td>\n",
       "      <td>0.0</td>\n",
       "      <td>0.0</td>\n",
       "      <td>0</td>\n",
       "      <td>0</td>\n",
       "      <td>0</td>\n",
       "      <td>231.0</td>\n",
       "      <td>102.5</td>\n",
       "      <td>66.0</td>\n",
       "      <td>23.40</td>\n",
       "      <td>70.0</td>\n",
       "      <td>78.0</td>\n",
       "    </tr>\n",
       "    <tr>\n",
       "      <th>4</th>\n",
       "      <td>3394</td>\n",
       "      <td>44</td>\n",
       "      <td>1.0</td>\n",
       "      <td>M</td>\n",
       "      <td>NO</td>\n",
       "      <td>0.0</td>\n",
       "      <td>0.0</td>\n",
       "      <td>0</td>\n",
       "      <td>0</td>\n",
       "      <td>0</td>\n",
       "      <td>160.0</td>\n",
       "      <td>118.5</td>\n",
       "      <td>87.0</td>\n",
       "      <td>25.81</td>\n",
       "      <td>54.0</td>\n",
       "      <td>NaN</td>\n",
       "    </tr>\n",
       "    <tr>\n",
       "      <th>...</th>\n",
       "      <td>...</td>\n",
       "      <td>...</td>\n",
       "      <td>...</td>\n",
       "      <td>...</td>\n",
       "      <td>...</td>\n",
       "      <td>...</td>\n",
       "      <td>...</td>\n",
       "      <td>...</td>\n",
       "      <td>...</td>\n",
       "      <td>...</td>\n",
       "      <td>...</td>\n",
       "      <td>...</td>\n",
       "      <td>...</td>\n",
       "      <td>...</td>\n",
       "      <td>...</td>\n",
       "      <td>...</td>\n",
       "    </tr>\n",
       "    <tr>\n",
       "      <th>843</th>\n",
       "      <td>4233</td>\n",
       "      <td>46</td>\n",
       "      <td>3.0</td>\n",
       "      <td>F</td>\n",
       "      <td>NO</td>\n",
       "      <td>0.0</td>\n",
       "      <td>0.0</td>\n",
       "      <td>0</td>\n",
       "      <td>0</td>\n",
       "      <td>0</td>\n",
       "      <td>277.0</td>\n",
       "      <td>122.5</td>\n",
       "      <td>77.5</td>\n",
       "      <td>27.42</td>\n",
       "      <td>63.0</td>\n",
       "      <td>77.0</td>\n",
       "    </tr>\n",
       "    <tr>\n",
       "      <th>844</th>\n",
       "      <td>4234</td>\n",
       "      <td>58</td>\n",
       "      <td>2.0</td>\n",
       "      <td>F</td>\n",
       "      <td>NO</td>\n",
       "      <td>0.0</td>\n",
       "      <td>0.0</td>\n",
       "      <td>0</td>\n",
       "      <td>0</td>\n",
       "      <td>0</td>\n",
       "      <td>190.0</td>\n",
       "      <td>132.0</td>\n",
       "      <td>67.0</td>\n",
       "      <td>23.08</td>\n",
       "      <td>65.0</td>\n",
       "      <td>70.0</td>\n",
       "    </tr>\n",
       "    <tr>\n",
       "      <th>845</th>\n",
       "      <td>4235</td>\n",
       "      <td>55</td>\n",
       "      <td>1.0</td>\n",
       "      <td>M</td>\n",
       "      <td>NO</td>\n",
       "      <td>0.0</td>\n",
       "      <td>0.0</td>\n",
       "      <td>0</td>\n",
       "      <td>0</td>\n",
       "      <td>0</td>\n",
       "      <td>199.0</td>\n",
       "      <td>134.0</td>\n",
       "      <td>80.0</td>\n",
       "      <td>26.41</td>\n",
       "      <td>120.0</td>\n",
       "      <td>NaN</td>\n",
       "    </tr>\n",
       "    <tr>\n",
       "      <th>846</th>\n",
       "      <td>4236</td>\n",
       "      <td>45</td>\n",
       "      <td>3.0</td>\n",
       "      <td>F</td>\n",
       "      <td>NO</td>\n",
       "      <td>0.0</td>\n",
       "      <td>0.0</td>\n",
       "      <td>0</td>\n",
       "      <td>1</td>\n",
       "      <td>0</td>\n",
       "      <td>231.0</td>\n",
       "      <td>157.5</td>\n",
       "      <td>104.5</td>\n",
       "      <td>22.86</td>\n",
       "      <td>75.0</td>\n",
       "      <td>92.0</td>\n",
       "    </tr>\n",
       "    <tr>\n",
       "      <th>847</th>\n",
       "      <td>4237</td>\n",
       "      <td>56</td>\n",
       "      <td>NaN</td>\n",
       "      <td>M</td>\n",
       "      <td>YES</td>\n",
       "      <td>25.0</td>\n",
       "      <td>0.0</td>\n",
       "      <td>0</td>\n",
       "      <td>0</td>\n",
       "      <td>0</td>\n",
       "      <td>255.0</td>\n",
       "      <td>138.0</td>\n",
       "      <td>80.0</td>\n",
       "      <td>23.44</td>\n",
       "      <td>67.0</td>\n",
       "      <td>79.0</td>\n",
       "    </tr>\n",
       "  </tbody>\n",
       "</table>\n",
       "<p>848 rows × 16 columns</p>\n",
       "</div>"
      ],
      "text/plain": [
       "       id  age  education sex is_smoking  cigsPerDay  BPMeds  prevalentStroke  \\\n",
       "0    3390   43        2.0   M        YES        35.0     0.0                0   \n",
       "1    3391   56        3.0   F         NO         0.0     0.0                0   \n",
       "2    3392   58        1.0   F        YES        20.0     0.0                0   \n",
       "3    3393   47        3.0   F         NO         0.0     0.0                0   \n",
       "4    3394   44        1.0   M         NO         0.0     0.0                0   \n",
       "..    ...  ...        ...  ..        ...         ...     ...              ...   \n",
       "843  4233   46        3.0   F         NO         0.0     0.0                0   \n",
       "844  4234   58        2.0   F         NO         0.0     0.0                0   \n",
       "845  4235   55        1.0   M         NO         0.0     0.0                0   \n",
       "846  4236   45        3.0   F         NO         0.0     0.0                0   \n",
       "847  4237   56        NaN   M        YES        25.0     0.0                0   \n",
       "\n",
       "     prevalentHyp  diabetes  totChol  sysBP  diaBP    BMI  heartRate  glucose  \n",
       "0               0         0    207.0  117.0   65.0  24.42       60.0    100.0  \n",
       "1               0         0    192.0  122.0   82.5  28.61       68.0     58.0  \n",
       "2               1         0    260.0  180.0  100.0  25.56      100.0      NaN  \n",
       "3               0         0    231.0  102.5   66.0  23.40       70.0     78.0  \n",
       "4               0         0    160.0  118.5   87.0  25.81       54.0      NaN  \n",
       "..            ...       ...      ...    ...    ...    ...        ...      ...  \n",
       "843             0         0    277.0  122.5   77.5  27.42       63.0     77.0  \n",
       "844             0         0    190.0  132.0   67.0  23.08       65.0     70.0  \n",
       "845             0         0    199.0  134.0   80.0  26.41      120.0      NaN  \n",
       "846             1         0    231.0  157.5  104.5  22.86       75.0     92.0  \n",
       "847             0         0    255.0  138.0   80.0  23.44       67.0     79.0  \n",
       "\n",
       "[848 rows x 16 columns]"
      ]
     },
     "execution_count": 36,
     "metadata": {},
     "output_type": "execute_result"
    }
   ],
   "source": [
    "# Applying KS test on an actual dataset\n",
    "#Importing data\n",
    "test_data = pd.read_csv('test.csv')\n",
    "test_data"
   ]
  },
  {
   "cell_type": "code",
   "execution_count": 13,
   "metadata": {},
   "outputs": [
    {
     "data": {
      "text/plain": [
       "0      24.42\n",
       "1      28.61\n",
       "2      25.56\n",
       "3      23.40\n",
       "4      25.81\n",
       "       ...  \n",
       "843    27.42\n",
       "844    23.08\n",
       "845    26.41\n",
       "846    22.86\n",
       "847    23.44\n",
       "Name: BMI, Length: 848, dtype: float64"
      ]
     },
     "execution_count": 13,
     "metadata": {},
     "output_type": "execute_result"
    }
   ],
   "source": [
    "#Extracting BMI data\n",
    "bmi_data = test_data.BMI\n",
    "bmi_data"
   ]
  },
  {
   "cell_type": "code",
   "execution_count": 35,
   "metadata": {},
   "outputs": [
    {
     "data": {
      "text/plain": [
       "Text(0, 0.5, 'Frequency')"
      ]
     },
     "execution_count": 35,
     "metadata": {},
     "output_type": "execute_result"
    },
    {
     "data": {
      "image/png": "[encoded data removed]",
      "text/plain": [
       "<Figure size 432x288 with 1 Axes>"
      ]
     },
     "metadata": {
      "needs_background": "light"
     },
     "output_type": "display_data"
    }
   ],
   "source": [
    "#The mean and standard deviation have been obtained from previous years data for the entire population.\n",
    "mean, std = 25.3,3.9\n",
    "plt.hist(bmi_data, bins=20)\n",
    "plt.xlabel('BMI')\n",
    "plt.ylabel('Frequency')"
   ]
  },
  {
   "cell_type": "code",
   "execution_count": 21,
   "metadata": {},
   "outputs": [],
   "source": [
    "#Finding CDF\n",
    "bmi_data_sorted = np.sort(bmi_data)\n",
    "bmi_data_sorted = bmi_data_sorted[~np.isnan(bmi_data_sorted)]\n",
    "bmi_data_sorted_normal = (bmi_data_sorted - mean)/std\n",
    "cdf_null_hyp = [st.norm.cdf(bmi) for bmi in bmi_data_sorted_normal]"
   ]
  },
  {
   "cell_type": "code",
   "execution_count": 22,
   "metadata": {},
   "outputs": [
    {
     "data": {
      "text/plain": [
       "0.06654647919876744"
      ]
     },
     "execution_count": 22,
     "metadata": {},
     "output_type": "execute_result"
    }
   ],
   "source": [
    "#Finding the observed test statistic\n",
    "bmi_data = bmi_data[~np.isnan(bmi_data)]\n",
    "bmi_edf = np.arange(1/len(bmi_data), 1+1/len(bmi_data), 1/len(bmi_data))\n",
    "#calculate absolute difference\n",
    "bmi_dif_abs = np.abs(cdf_null_hyp-bmi_edf)\n",
    "#get max different\n",
    "dn_ks = max(bmi_dif_abs)\n",
    "dn_ks"
   ]
  },
  {
   "cell_type": "code",
   "execution_count": 23,
   "metadata": {},
   "outputs": [
    {
     "data": {
      "text/plain": [
       "0.04684088814164377"
      ]
     },
     "execution_count": 23,
     "metadata": {},
     "output_type": "execute_result"
    }
   ],
   "source": [
    "#Finding critical value of test statistic considering level of signifance as alpha = 0.05\n",
    "dn_crit = 1.36/np.sqrt(len(bmi_data))\n",
    "dn_crit"
   ]
  },
  {
   "cell_type": "code",
   "execution_count": 24,
   "metadata": {},
   "outputs": [
    {
     "data": {
      "image/png": "[encoded data removed]",
      "text/plain": [
       "<Figure size 720x720 with 1 Axes>"
      ]
     },
     "metadata": {
      "needs_background": "light"
     },
     "output_type": "display_data"
    }
   ],
   "source": [
    "# Plotting the ECDF and CDF curves\n",
    "plt.figure(figsize=(10, 10))\n",
    "plt.plot(bmi_data_sorted_normal, bmi_edf, label='F_obs', color='red')\n",
    "plt.plot(bmi_data_sorted_normal, cdf_null_hyp, label='F_exp', color = 'green')\n",
    "for x, y1, y2 in zip(bmi_data_sorted_normal, bmi_edf, cdf_null_hyp):\n",
    "    plt.plot([x, x], [y1, y2], color='orange',alpha = 0.3)\n",
    "plt.legend(fontsize = 16)\n",
    "plt.ylabel(\"Cumulative Probability\")\n",
    "plt.xlabel('Normalized BMI')\n",
    "plt.title(\"KS Goodness of Fit\")\n",
    "plt.show()"
   ]
  }
 ],
 "metadata": {
  "kernelspec": {
   "display_name": "Python 3",
   "language": "python",
   "name": "python3"
  },
  "language_info": {
   "codemirror_mode": {
    "name": "ipython",
    "version": 3
   },
   "file_extension": ".py",
   "mimetype": "text/x-python",
   "name": "python",
   "nbconvert_exporter": "python",
   "pygments_lexer": "ipython3",
   "version": "3.7.6"
  }
 },
 "nbformat": 4,
 "nbformat_minor": 4
}
